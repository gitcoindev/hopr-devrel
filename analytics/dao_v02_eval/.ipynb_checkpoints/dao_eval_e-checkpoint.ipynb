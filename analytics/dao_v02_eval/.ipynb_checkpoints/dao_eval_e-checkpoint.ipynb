{
 "cells": [
  {
   "cell_type": "code",
   "execution_count": 1,
   "id": "b5ad3798",
   "metadata": {},
   "outputs": [],
   "source": [
    "import pandas as pd\n",
    "import numpy as np\n",
    "import openpyxl"
   ]
  },
  {
   "cell_type": "code",
   "execution_count": 2,
   "id": "0acafc2d",
   "metadata": {},
   "outputs": [],
   "source": [
    "import requests\n",
    "import json\n",
    "import pandas as pd\n",
    "import time\n",
    "from datetime import datetime\n",
    "from os import path\n",
    "import requests\n",
    "import seaborn as sns; sns.set()\n",
    "import matplotlib.pyplot as plt\n",
    "%matplotlib inline\n",
    "import numpy as np; np.random.seed(0)\n",
    "from datetime import date\n",
    "import scipy.stats"
   ]
  },
  {
   "cell_type": "code",
   "execution_count": 3,
   "id": "09b66cf3",
   "metadata": {},
   "outputs": [],
   "source": [
    "#proposals and their status "
   ]
  },
  {
   "cell_type": "code",
   "execution_count": 4,
   "id": "239674c6",
   "metadata": {
    "scrolled": true
   },
   "outputs": [
    {
     "ename": "FileNotFoundError",
     "evalue": "[Errno 2] No such file or directory: '1_dao_v2b.csv'",
     "output_type": "error",
     "traceback": [
      "\u001b[1;31m---------------------------------------------------------------------------\u001b[0m",
      "\u001b[1;31mFileNotFoundError\u001b[0m                         Traceback (most recent call last)",
      "\u001b[1;32m~\\AppData\\Local\\Temp/ipykernel_1140/1142240840.py\u001b[0m in \u001b[0;36m<module>\u001b[1;34m\u001b[0m\n\u001b[1;32m----> 1\u001b[1;33m \u001b[0mdf_1\u001b[0m \u001b[1;33m=\u001b[0m \u001b[0mpd\u001b[0m\u001b[1;33m.\u001b[0m\u001b[0mread_csv\u001b[0m\u001b[1;33m(\u001b[0m\u001b[1;34m'1_dao_v2b.csv'\u001b[0m\u001b[1;33m)\u001b[0m\u001b[1;33m\u001b[0m\u001b[1;33m\u001b[0m\u001b[0m\n\u001b[0m\u001b[0;32m      2\u001b[0m \u001b[0mdf_1\u001b[0m\u001b[1;33m.\u001b[0m\u001b[0mhead\u001b[0m\u001b[1;33m(\u001b[0m\u001b[1;33m)\u001b[0m\u001b[1;33m\u001b[0m\u001b[1;33m\u001b[0m\u001b[0m\n",
      "\u001b[1;32m~\\Anaconda3\\lib\\site-packages\\pandas\\io\\parsers.py\u001b[0m in \u001b[0;36mread_csv\u001b[1;34m(filepath_or_buffer, sep, delimiter, header, names, index_col, usecols, squeeze, prefix, mangle_dupe_cols, dtype, engine, converters, true_values, false_values, skipinitialspace, skiprows, skipfooter, nrows, na_values, keep_default_na, na_filter, verbose, skip_blank_lines, parse_dates, infer_datetime_format, keep_date_col, date_parser, dayfirst, cache_dates, iterator, chunksize, compression, thousands, decimal, lineterminator, quotechar, quoting, doublequote, escapechar, comment, encoding, dialect, error_bad_lines, warn_bad_lines, delim_whitespace, low_memory, memory_map, float_precision)\u001b[0m\n\u001b[0;32m    686\u001b[0m     )\n\u001b[0;32m    687\u001b[0m \u001b[1;33m\u001b[0m\u001b[0m\n\u001b[1;32m--> 688\u001b[1;33m     \u001b[1;32mreturn\u001b[0m \u001b[0m_read\u001b[0m\u001b[1;33m(\u001b[0m\u001b[0mfilepath_or_buffer\u001b[0m\u001b[1;33m,\u001b[0m \u001b[0mkwds\u001b[0m\u001b[1;33m)\u001b[0m\u001b[1;33m\u001b[0m\u001b[1;33m\u001b[0m\u001b[0m\n\u001b[0m\u001b[0;32m    689\u001b[0m \u001b[1;33m\u001b[0m\u001b[0m\n\u001b[0;32m    690\u001b[0m \u001b[1;33m\u001b[0m\u001b[0m\n",
      "\u001b[1;32m~\\Anaconda3\\lib\\site-packages\\pandas\\io\\parsers.py\u001b[0m in \u001b[0;36m_read\u001b[1;34m(filepath_or_buffer, kwds)\u001b[0m\n\u001b[0;32m    452\u001b[0m \u001b[1;33m\u001b[0m\u001b[0m\n\u001b[0;32m    453\u001b[0m     \u001b[1;31m# Create the parser.\u001b[0m\u001b[1;33m\u001b[0m\u001b[1;33m\u001b[0m\u001b[1;33m\u001b[0m\u001b[0m\n\u001b[1;32m--> 454\u001b[1;33m     \u001b[0mparser\u001b[0m \u001b[1;33m=\u001b[0m \u001b[0mTextFileReader\u001b[0m\u001b[1;33m(\u001b[0m\u001b[0mfp_or_buf\u001b[0m\u001b[1;33m,\u001b[0m \u001b[1;33m**\u001b[0m\u001b[0mkwds\u001b[0m\u001b[1;33m)\u001b[0m\u001b[1;33m\u001b[0m\u001b[1;33m\u001b[0m\u001b[0m\n\u001b[0m\u001b[0;32m    455\u001b[0m \u001b[1;33m\u001b[0m\u001b[0m\n\u001b[0;32m    456\u001b[0m     \u001b[1;32mif\u001b[0m \u001b[0mchunksize\u001b[0m \u001b[1;32mor\u001b[0m \u001b[0miterator\u001b[0m\u001b[1;33m:\u001b[0m\u001b[1;33m\u001b[0m\u001b[1;33m\u001b[0m\u001b[0m\n",
      "\u001b[1;32m~\\Anaconda3\\lib\\site-packages\\pandas\\io\\parsers.py\u001b[0m in \u001b[0;36m__init__\u001b[1;34m(self, f, engine, **kwds)\u001b[0m\n\u001b[0;32m    946\u001b[0m             \u001b[0mself\u001b[0m\u001b[1;33m.\u001b[0m\u001b[0moptions\u001b[0m\u001b[1;33m[\u001b[0m\u001b[1;34m\"has_index_names\"\u001b[0m\u001b[1;33m]\u001b[0m \u001b[1;33m=\u001b[0m \u001b[0mkwds\u001b[0m\u001b[1;33m[\u001b[0m\u001b[1;34m\"has_index_names\"\u001b[0m\u001b[1;33m]\u001b[0m\u001b[1;33m\u001b[0m\u001b[1;33m\u001b[0m\u001b[0m\n\u001b[0;32m    947\u001b[0m \u001b[1;33m\u001b[0m\u001b[0m\n\u001b[1;32m--> 948\u001b[1;33m         \u001b[0mself\u001b[0m\u001b[1;33m.\u001b[0m\u001b[0m_make_engine\u001b[0m\u001b[1;33m(\u001b[0m\u001b[0mself\u001b[0m\u001b[1;33m.\u001b[0m\u001b[0mengine\u001b[0m\u001b[1;33m)\u001b[0m\u001b[1;33m\u001b[0m\u001b[1;33m\u001b[0m\u001b[0m\n\u001b[0m\u001b[0;32m    949\u001b[0m \u001b[1;33m\u001b[0m\u001b[0m\n\u001b[0;32m    950\u001b[0m     \u001b[1;32mdef\u001b[0m \u001b[0mclose\u001b[0m\u001b[1;33m(\u001b[0m\u001b[0mself\u001b[0m\u001b[1;33m)\u001b[0m\u001b[1;33m:\u001b[0m\u001b[1;33m\u001b[0m\u001b[1;33m\u001b[0m\u001b[0m\n",
      "\u001b[1;32m~\\Anaconda3\\lib\\site-packages\\pandas\\io\\parsers.py\u001b[0m in \u001b[0;36m_make_engine\u001b[1;34m(self, engine)\u001b[0m\n\u001b[0;32m   1178\u001b[0m     \u001b[1;32mdef\u001b[0m \u001b[0m_make_engine\u001b[0m\u001b[1;33m(\u001b[0m\u001b[0mself\u001b[0m\u001b[1;33m,\u001b[0m \u001b[0mengine\u001b[0m\u001b[1;33m=\u001b[0m\u001b[1;34m\"c\"\u001b[0m\u001b[1;33m)\u001b[0m\u001b[1;33m:\u001b[0m\u001b[1;33m\u001b[0m\u001b[1;33m\u001b[0m\u001b[0m\n\u001b[0;32m   1179\u001b[0m         \u001b[1;32mif\u001b[0m \u001b[0mengine\u001b[0m \u001b[1;33m==\u001b[0m \u001b[1;34m\"c\"\u001b[0m\u001b[1;33m:\u001b[0m\u001b[1;33m\u001b[0m\u001b[1;33m\u001b[0m\u001b[0m\n\u001b[1;32m-> 1180\u001b[1;33m             \u001b[0mself\u001b[0m\u001b[1;33m.\u001b[0m\u001b[0m_engine\u001b[0m \u001b[1;33m=\u001b[0m \u001b[0mCParserWrapper\u001b[0m\u001b[1;33m(\u001b[0m\u001b[0mself\u001b[0m\u001b[1;33m.\u001b[0m\u001b[0mf\u001b[0m\u001b[1;33m,\u001b[0m \u001b[1;33m**\u001b[0m\u001b[0mself\u001b[0m\u001b[1;33m.\u001b[0m\u001b[0moptions\u001b[0m\u001b[1;33m)\u001b[0m\u001b[1;33m\u001b[0m\u001b[1;33m\u001b[0m\u001b[0m\n\u001b[0m\u001b[0;32m   1181\u001b[0m         \u001b[1;32melse\u001b[0m\u001b[1;33m:\u001b[0m\u001b[1;33m\u001b[0m\u001b[1;33m\u001b[0m\u001b[0m\n\u001b[0;32m   1182\u001b[0m             \u001b[1;32mif\u001b[0m \u001b[0mengine\u001b[0m \u001b[1;33m==\u001b[0m \u001b[1;34m\"python\"\u001b[0m\u001b[1;33m:\u001b[0m\u001b[1;33m\u001b[0m\u001b[1;33m\u001b[0m\u001b[0m\n",
      "\u001b[1;32m~\\Anaconda3\\lib\\site-packages\\pandas\\io\\parsers.py\u001b[0m in \u001b[0;36m__init__\u001b[1;34m(self, src, **kwds)\u001b[0m\n\u001b[0;32m   2008\u001b[0m         \u001b[0mkwds\u001b[0m\u001b[1;33m[\u001b[0m\u001b[1;34m\"usecols\"\u001b[0m\u001b[1;33m]\u001b[0m \u001b[1;33m=\u001b[0m \u001b[0mself\u001b[0m\u001b[1;33m.\u001b[0m\u001b[0musecols\u001b[0m\u001b[1;33m\u001b[0m\u001b[1;33m\u001b[0m\u001b[0m\n\u001b[0;32m   2009\u001b[0m \u001b[1;33m\u001b[0m\u001b[0m\n\u001b[1;32m-> 2010\u001b[1;33m         \u001b[0mself\u001b[0m\u001b[1;33m.\u001b[0m\u001b[0m_reader\u001b[0m \u001b[1;33m=\u001b[0m \u001b[0mparsers\u001b[0m\u001b[1;33m.\u001b[0m\u001b[0mTextReader\u001b[0m\u001b[1;33m(\u001b[0m\u001b[0msrc\u001b[0m\u001b[1;33m,\u001b[0m \u001b[1;33m**\u001b[0m\u001b[0mkwds\u001b[0m\u001b[1;33m)\u001b[0m\u001b[1;33m\u001b[0m\u001b[1;33m\u001b[0m\u001b[0m\n\u001b[0m\u001b[0;32m   2011\u001b[0m         \u001b[0mself\u001b[0m\u001b[1;33m.\u001b[0m\u001b[0munnamed_cols\u001b[0m \u001b[1;33m=\u001b[0m \u001b[0mself\u001b[0m\u001b[1;33m.\u001b[0m\u001b[0m_reader\u001b[0m\u001b[1;33m.\u001b[0m\u001b[0munnamed_cols\u001b[0m\u001b[1;33m\u001b[0m\u001b[1;33m\u001b[0m\u001b[0m\n\u001b[0;32m   2012\u001b[0m \u001b[1;33m\u001b[0m\u001b[0m\n",
      "\u001b[1;32mpandas\\_libs\\parsers.pyx\u001b[0m in \u001b[0;36mpandas._libs.parsers.TextReader.__cinit__\u001b[1;34m()\u001b[0m\n",
      "\u001b[1;32mpandas\\_libs\\parsers.pyx\u001b[0m in \u001b[0;36mpandas._libs.parsers.TextReader._setup_parser_source\u001b[1;34m()\u001b[0m\n",
      "\u001b[1;31mFileNotFoundError\u001b[0m: [Errno 2] No such file or directory: '1_dao_v2b.csv'"
     ]
    }
   ],
   "source": [
    "df_1 = pd.read_csv('1_dao_v2b.csv')\n",
    "df_1.head()"
   ]
  },
  {
   "cell_type": "code",
   "execution_count": null,
   "id": "701565df",
   "metadata": {},
   "outputs": [],
   "source": [
    "#creating a column for proposals being considered as valid"
   ]
  },
  {
   "cell_type": "code",
   "execution_count": null,
   "id": "a637343b",
   "metadata": {},
   "outputs": [],
   "source": [
    "df_1[\"ref\"] = 1"
   ]
  },
  {
   "cell_type": "code",
   "execution_count": null,
   "id": "be8a2bcb",
   "metadata": {},
   "outputs": [],
   "source": [
    "refer = df_1[[\"post_id\", \"ref\"]]"
   ]
  },
  {
   "cell_type": "code",
   "execution_count": null,
   "id": "30c43094",
   "metadata": {},
   "outputs": [],
   "source": [
    "#signitures given to proposals"
   ]
  },
  {
   "cell_type": "code",
   "execution_count": null,
   "id": "131c727d",
   "metadata": {
    "scrolled": true
   },
   "outputs": [],
   "source": [
    "df_5 = pd.read_csv('5_dao_v2.csv')\n",
    "df_5.head()"
   ]
  },
  {
   "cell_type": "code",
   "execution_count": null,
   "id": "a977807f",
   "metadata": {},
   "outputs": [],
   "source": [
    "#dropping signatures which are not considered"
   ]
  },
  {
   "cell_type": "code",
   "execution_count": null,
   "id": "3eeebdf0",
   "metadata": {},
   "outputs": [],
   "source": [
    "df_5 = pd.merge(df_5, refer, how=\"outer\", on=[\"post_id\"])"
   ]
  },
  {
   "cell_type": "code",
   "execution_count": null,
   "id": "ac2f18f9",
   "metadata": {},
   "outputs": [],
   "source": [
    "df_5 = df_5[df_5['ref'].notna()]"
   ]
  },
  {
   "cell_type": "code",
   "execution_count": null,
   "id": "f8f97b4c",
   "metadata": {},
   "outputs": [],
   "source": [
    "#mergind the proposal and the signiture files"
   ]
  },
  {
   "cell_type": "code",
   "execution_count": null,
   "id": "cd330319",
   "metadata": {},
   "outputs": [],
   "source": [
    "df_p = pd.merge(df_5, df_1, how=\"outer\", on=[\"topic_id\"])\n",
    "df_p.head()"
   ]
  },
  {
   "cell_type": "code",
   "execution_count": null,
   "id": "6aa165aa",
   "metadata": {},
   "outputs": [],
   "source": [
    "#creating the winning proposer (P_W_P) - prepresents the single winner, coded with 1"
   ]
  },
  {
   "cell_type": "code",
   "execution_count": null,
   "id": "30ba8240",
   "metadata": {},
   "outputs": [],
   "source": [
    "d = {'user_id': [100], 'p_w_p': [1]}\n",
    "df_w = pd.DataFrame(data=d)"
   ]
  },
  {
   "cell_type": "code",
   "execution_count": null,
   "id": "2b0029f2",
   "metadata": {},
   "outputs": [],
   "source": [
    "#creating the list of winning signitures (P_W_S)"
   ]
  },
  {
   "cell_type": "code",
   "execution_count": null,
   "id": "9660b323",
   "metadata": {
    "scrolled": true
   },
   "outputs": [],
   "source": [
    "df_5['p_w_s'] = (df_5['post_id'] == 8728) | (df_5['post_id'] == 7942)"
   ]
  },
  {
   "cell_type": "code",
   "execution_count": null,
   "id": "705e2b28",
   "metadata": {},
   "outputs": [],
   "source": [
    "df_5['p_w_s'].value_counts()"
   ]
  },
  {
   "cell_type": "code",
   "execution_count": null,
   "id": "2f84017a",
   "metadata": {},
   "outputs": [],
   "source": [
    "signit = df_5[df_5['p_w_s'] == False].index\n",
    "signit"
   ]
  },
  {
   "cell_type": "code",
   "execution_count": null,
   "id": "fe682f2d",
   "metadata": {
    "scrolled": true
   },
   "outputs": [],
   "source": [
    "df_sig = (df_5.drop(signit)).reset_index(drop=True)\n",
    "df_sig.head()"
   ]
  },
  {
   "cell_type": "code",
   "execution_count": null,
   "id": "31677749",
   "metadata": {},
   "outputs": [],
   "source": [
    "p_w_s_sig = pd.DataFrame(df_sig['user_id'].value_counts()).reset_index()"
   ]
  },
  {
   "cell_type": "code",
   "execution_count": null,
   "id": "ee3a2999",
   "metadata": {
    "scrolled": false
   },
   "outputs": [],
   "source": [
    "p_w_s = p_w_s_sig.rename(columns={'index': 'user_id', 'user_id':'p_w_s'})"
   ]
  },
  {
   "cell_type": "code",
   "execution_count": null,
   "id": "12b9d5fa",
   "metadata": {
    "scrolled": true
   },
   "outputs": [],
   "source": [
    "p_w_s['p_w_s'] = p_w_s['p_w_s'].apply(lambda x: 1)\n",
    "p_w_s.head()"
   ]
  },
  {
   "cell_type": "code",
   "execution_count": null,
   "id": "b8fd4b5d",
   "metadata": {},
   "outputs": [],
   "source": [
    "#referendum stage proposals"
   ]
  },
  {
   "cell_type": "code",
   "execution_count": null,
   "id": "bddf4224",
   "metadata": {},
   "outputs": [],
   "source": [
    "p_r_p = pd.read_csv('p_r_p.csv')"
   ]
  },
  {
   "cell_type": "code",
   "execution_count": null,
   "id": "83e1e460",
   "metadata": {},
   "outputs": [],
   "source": [
    "#referendum stage signatures"
   ]
  },
  {
   "cell_type": "code",
   "execution_count": null,
   "id": "67c50501",
   "metadata": {
    "scrolled": true
   },
   "outputs": [],
   "source": [
    "df_5['p_r_s'] = (df_5['post_id'] == 7939) | (df_5['post_id'] == 7941) | (df_5['post_id'] == 7943) | (df_5['post_id'] == 8714) | (df_5['post_id'] == 9036) | (df_5['post_id'] == 7946) | (df_5['post_id'] == 8698) | (df_5['post_id'] == 8649) | (df_5['post_id'] == 8691) | (df_5['post_id'] == 8652) | (df_5['post_id'] == 8680) | (df_5['post_id'] == 9027) | (df_5['post_id'] == 8640)"
   ]
  },
  {
   "cell_type": "code",
   "execution_count": null,
   "id": "8f869d3e",
   "metadata": {
    "scrolled": true
   },
   "outputs": [],
   "source": [
    "signit_r = df_5[df_5['p_r_s'] == False].index\n",
    "signit_r"
   ]
  },
  {
   "cell_type": "code",
   "execution_count": null,
   "id": "23b6c348",
   "metadata": {
    "scrolled": true
   },
   "outputs": [],
   "source": [
    "df_sig_r = (df_5.drop(signit_r)).reset_index(drop=True)\n",
    "df_sig_r"
   ]
  },
  {
   "cell_type": "code",
   "execution_count": null,
   "id": "bb6acd2a",
   "metadata": {
    "scrolled": false
   },
   "outputs": [],
   "source": [
    "p_r_s = df_sig_r['user_id'].value_counts()"
   ]
  },
  {
   "cell_type": "code",
   "execution_count": null,
   "id": "ce04a965",
   "metadata": {
    "scrolled": true
   },
   "outputs": [],
   "source": [
    "p_r_s = pd.DataFrame(p_r_s.reset_index())\n",
    "p_r_s"
   ]
  },
  {
   "cell_type": "code",
   "execution_count": null,
   "id": "0cfc6b8f",
   "metadata": {
    "scrolled": true
   },
   "outputs": [],
   "source": [
    "p_r_s = p_r_s.rename(columns={'index': 'user_id', 'user_id':'p_r_s'})\n",
    "p_r_s"
   ]
  },
  {
   "cell_type": "code",
   "execution_count": null,
   "id": "e45de459",
   "metadata": {},
   "outputs": [],
   "source": [
    "p_r_s['p_r_s'] = p_r_s['p_r_s'].apply(lambda x: 1)\n",
    "p_r_s.head()"
   ]
  },
  {
   "cell_type": "code",
   "execution_count": null,
   "id": "358c5ea1",
   "metadata": {},
   "outputs": [],
   "source": [
    "#valid proposals, which didn't reach the referendum stage"
   ]
  },
  {
   "cell_type": "code",
   "execution_count": null,
   "id": "f17b0a3b",
   "metadata": {},
   "outputs": [],
   "source": [
    "p_p_p = pd.read_csv('p_p_p.csv')"
   ]
  },
  {
   "cell_type": "code",
   "execution_count": null,
   "id": "5d73215a",
   "metadata": {},
   "outputs": [],
   "source": [
    "#user subfile"
   ]
  },
  {
   "cell_type": "code",
   "execution_count": null,
   "id": "bf3c36a2",
   "metadata": {},
   "outputs": [],
   "source": [
    "us_vo_00 = pd.DataFrame(df_5['user_id'].value_counts()).reset_index()\n",
    "us_vo_00"
   ]
  },
  {
   "cell_type": "code",
   "execution_count": null,
   "id": "c17fde8a",
   "metadata": {
    "scrolled": true
   },
   "outputs": [],
   "source": [
    "us_vo_0 = us_vo_00.rename(columns={'index': 'user_id', 'user_id':'number_of_signitures'})\n",
    "us_vo_0"
   ]
  },
  {
   "cell_type": "code",
   "execution_count": null,
   "id": "5d58e5ee",
   "metadata": {},
   "outputs": [],
   "source": [
    "#merging the user dataframe (\"us_vo\") with the proposal and signature dataframes "
   ]
  },
  {
   "cell_type": "code",
   "execution_count": null,
   "id": "44a2fcab",
   "metadata": {
    "scrolled": true
   },
   "outputs": [],
   "source": [
    "us_vo_0 =  pd.merge(us_vo_0, df_w, how=\"outer\", on=[\"user_id\"])"
   ]
  },
  {
   "cell_type": "code",
   "execution_count": null,
   "id": "c58ebe47",
   "metadata": {},
   "outputs": [],
   "source": [
    "us_vo =  pd.merge(us_vo_0, p_w_s, how=\"outer\", on=[\"user_id\"])"
   ]
  },
  {
   "cell_type": "code",
   "execution_count": null,
   "id": "4207e37e",
   "metadata": {},
   "outputs": [],
   "source": [
    "us_vo_1 =  pd.merge(us_vo, p_r_p, how=\"outer\", on=[\"user_id\"])"
   ]
  },
  {
   "cell_type": "code",
   "execution_count": null,
   "id": "f27674bf",
   "metadata": {},
   "outputs": [],
   "source": [
    "us_vo_2 =  pd.merge(us_vo_1, p_r_s, how=\"outer\", on=[\"user_id\"])"
   ]
  },
  {
   "cell_type": "code",
   "execution_count": null,
   "id": "cb1ad311",
   "metadata": {},
   "outputs": [],
   "source": [
    "us_vo_3 =  pd.merge(us_vo_2, p_p_p, how=\"outer\", on=[\"user_id\"])\n",
    "us_vo_3"
   ]
  },
  {
   "cell_type": "code",
   "execution_count": null,
   "id": "74669fa5",
   "metadata": {},
   "outputs": [],
   "source": [
    "#adding the distribution to the user file (D_P_L, D_U_L, U_T_T)"
   ]
  },
  {
   "cell_type": "code",
   "execution_count": null,
   "id": "a6b74d33",
   "metadata": {
    "scrolled": true
   },
   "outputs": [],
   "source": [
    "df_6 =  pd.read_csv('6_dao_v2.csv')\n",
    "df_6.dtypes"
   ]
  },
  {
   "cell_type": "code",
   "execution_count": null,
   "id": "7ce3b660",
   "metadata": {},
   "outputs": [],
   "source": [
    "df_6['user_id'] = df_6['user_id'].fillna(0)"
   ]
  },
  {
   "cell_type": "code",
   "execution_count": null,
   "id": "153800a8",
   "metadata": {},
   "outputs": [],
   "source": [
    "df_p1 = pd.merge(us_vo_3, df_6, how='outer', on=[\"user_id\"])"
   ]
  },
  {
   "cell_type": "code",
   "execution_count": null,
   "id": "80572833",
   "metadata": {},
   "outputs": [],
   "source": [
    "# adding miscellaneous M_O_C "
   ]
  },
  {
   "cell_type": "code",
   "execution_count": null,
   "id": "864969ca",
   "metadata": {},
   "outputs": [],
   "source": [
    "df_7 = pd.read_csv('7_dao_v2.csv')"
   ]
  },
  {
   "cell_type": "code",
   "execution_count": null,
   "id": "9cd73dd9",
   "metadata": {},
   "outputs": [],
   "source": [
    "df_p2 =  pd.merge(df_p1, df_7, how=\"outer\", on=[\"user_id\"])"
   ]
  },
  {
   "cell_type": "code",
   "execution_count": null,
   "id": "280592a5",
   "metadata": {},
   "outputs": [],
   "source": [
    "#adding miscellaneous M_E_R"
   ]
  },
  {
   "cell_type": "code",
   "execution_count": null,
   "id": "a1d35c83",
   "metadata": {},
   "outputs": [],
   "source": [
    "df_8 = pd.read_csv('8_dao_v2.csv')\n",
    "df_8.head()"
   ]
  },
  {
   "cell_type": "code",
   "execution_count": null,
   "id": "8dc00397",
   "metadata": {
    "scrolled": true
   },
   "outputs": [],
   "source": [
    "df_p3 =  pd.merge(df_p2, df_8, how=\"outer\", on=[\"user_id\"])\n",
    "df_p3.head()"
   ]
  },
  {
   "cell_type": "code",
   "execution_count": null,
   "id": "bf3a62d0",
   "metadata": {},
   "outputs": [],
   "source": [
    "#adding miscellaneous M_C"
   ]
  },
  {
   "cell_type": "code",
   "execution_count": null,
   "id": "37c7938d",
   "metadata": {},
   "outputs": [],
   "source": [
    "df_9 = pd.read_csv('9_dao_v2.csv')"
   ]
  },
  {
   "cell_type": "code",
   "execution_count": null,
   "id": "418e999c",
   "metadata": {
    "scrolled": false
   },
   "outputs": [],
   "source": [
    "df_p4 = pd.merge(df_p3, df_9, how=\"outer\", on=[\"user_id\"])"
   ]
  },
  {
   "cell_type": "code",
   "execution_count": null,
   "id": "aa020e7d",
   "metadata": {},
   "outputs": [],
   "source": [
    "#adding user addresses"
   ]
  },
  {
   "cell_type": "code",
   "execution_count": null,
   "id": "c26021c2",
   "metadata": {},
   "outputs": [],
   "source": [
    "df_10 = pd.read_csv('10_dao_v2.csv')\n",
    "df_11 = pd.read_csv('11_dao_nft_v2.csv')"
   ]
  },
  {
   "cell_type": "code",
   "execution_count": null,
   "id": "1df49fe8",
   "metadata": {},
   "outputs": [],
   "source": [
    "df_p5 = pd.merge(df_p4, df_10, how=\"outer\", on=[\"user_id\"])"
   ]
  },
  {
   "cell_type": "code",
   "execution_count": null,
   "id": "c050449c",
   "metadata": {
    "scrolled": true
   },
   "outputs": [],
   "source": [
    "df_p6 = pd.merge(df_p5, df_11, how=\"outer\", on=[\"user_id\"])"
   ]
  },
  {
   "cell_type": "code",
   "execution_count": null,
   "id": "bec3e473",
   "metadata": {},
   "outputs": [],
   "source": [
    "#removing admins"
   ]
  },
  {
   "cell_type": "code",
   "execution_count": null,
   "id": "0f6868e4",
   "metadata": {},
   "outputs": [],
   "source": [
    "admin = pd.read_csv('admin.csv')"
   ]
  },
  {
   "cell_type": "code",
   "execution_count": null,
   "id": "402ecd78",
   "metadata": {
    "scrolled": true
   },
   "outputs": [],
   "source": [
    "df_p6 = pd.merge(df_p6, admin, how=\"left\", on=[\"user_id\"])\n",
    "df_p6"
   ]
  },
  {
   "cell_type": "code",
   "execution_count": null,
   "id": "7587bc93",
   "metadata": {
    "scrolled": true
   },
   "outputs": [],
   "source": [
    "df_p6 = df_p6.fillna(0)"
   ]
  },
  {
   "cell_type": "code",
   "execution_count": null,
   "id": "61ead61f",
   "metadata": {},
   "outputs": [],
   "source": [
    "ad_out = df_p6[ df_p6['is_there'] == 1 ].index"
   ]
  },
  {
   "cell_type": "code",
   "execution_count": null,
   "id": "ba30c31a",
   "metadata": {},
   "outputs": [],
   "source": [
    "df_p6.drop(ad_out, inplace=True)"
   ]
  },
  {
   "cell_type": "code",
   "execution_count": null,
   "id": "36cce459",
   "metadata": {},
   "outputs": [],
   "source": [
    "df_p6"
   ]
  },
  {
   "cell_type": "code",
   "execution_count": null,
   "id": "050b1bef",
   "metadata": {},
   "outputs": [],
   "source": [
    "#calculating coef in the proposal section"
   ]
  },
  {
   "cell_type": "code",
   "execution_count": null,
   "id": "654a2a81",
   "metadata": {},
   "outputs": [],
   "source": [
    "df_p6['p_w_p'].value_counts()"
   ]
  },
  {
   "cell_type": "code",
   "execution_count": null,
   "id": "38b35604",
   "metadata": {},
   "outputs": [],
   "source": [
    "df_p6['p_w_p'] = df_p6['p_w_p']*0.05"
   ]
  },
  {
   "cell_type": "code",
   "execution_count": null,
   "id": "4ea44d36",
   "metadata": {},
   "outputs": [],
   "source": [
    "df_p6['p_w_s'].value_counts()"
   ]
  },
  {
   "cell_type": "code",
   "execution_count": null,
   "id": "1b9747e9",
   "metadata": {},
   "outputs": [],
   "source": [
    "df_p6['p_w_s'] = 0.05/58*(df_p6['p_w_s'])"
   ]
  },
  {
   "cell_type": "code",
   "execution_count": null,
   "id": "4653c7db",
   "metadata": {},
   "outputs": [],
   "source": [
    "df_p6['p_r_p'].value_counts()"
   ]
  },
  {
   "cell_type": "code",
   "execution_count": null,
   "id": "1b7d3db4",
   "metadata": {},
   "outputs": [],
   "source": [
    "df_p6['p_r_p'] = 0.075/9*df_p6['p_r_p']"
   ]
  },
  {
   "cell_type": "code",
   "execution_count": null,
   "id": "7b145fa2",
   "metadata": {},
   "outputs": [],
   "source": [
    "df_p6['p_r_s'].value_counts()"
   ]
  },
  {
   "cell_type": "code",
   "execution_count": null,
   "id": "ea3b405d",
   "metadata": {},
   "outputs": [],
   "source": [
    "df_p6['p_r_s'] = 0.075/147*df_p6['p_r_s']"
   ]
  },
  {
   "cell_type": "code",
   "execution_count": null,
   "id": "78e7af69",
   "metadata": {},
   "outputs": [],
   "source": [
    "df_p6['p_p_p'].value_counts()"
   ]
  },
  {
   "cell_type": "code",
   "execution_count": null,
   "id": "119839ff",
   "metadata": {},
   "outputs": [],
   "source": [
    "df_p6['p_p_p'] = 0.10/6*df_p6['p_p_p']"
   ]
  },
  {
   "cell_type": "code",
   "execution_count": null,
   "id": "69bbe0e6",
   "metadata": {},
   "outputs": [],
   "source": [
    "#frequencies in the rest "
   ]
  },
  {
   "cell_type": "code",
   "execution_count": null,
   "id": "1077ea34",
   "metadata": {},
   "outputs": [],
   "source": [
    "df_p6['allocation_from_contribution_d_p_l'].value_counts()"
   ]
  },
  {
   "cell_type": "code",
   "execution_count": null,
   "id": "32409cf0",
   "metadata": {},
   "outputs": [],
   "source": [
    "df_p6['allocation_from_likes_d_u_l'].value_counts()"
   ]
  },
  {
   "cell_type": "code",
   "execution_count": null,
   "id": "8fe0ef7d",
   "metadata": {},
   "outputs": [],
   "source": [
    "df_p6['allocation_from_3p3l_u_t_t'].value_counts()"
   ]
  },
  {
   "cell_type": "code",
   "execution_count": null,
   "id": "1926d9a7",
   "metadata": {},
   "outputs": [],
   "source": [
    "df_p6['payout_coef_m_o_c'].value_counts()"
   ]
  },
  {
   "cell_type": "code",
   "execution_count": null,
   "id": "aa387889",
   "metadata": {
    "scrolled": true
   },
   "outputs": [],
   "source": [
    "df_p6['payout_coef_m_e_r'].value_counts()"
   ]
  },
  {
   "cell_type": "code",
   "execution_count": null,
   "id": "0b76cdef",
   "metadata": {},
   "outputs": [],
   "source": [
    "df_p6['payout_coef_m_c'].value_counts()"
   ]
  },
  {
   "cell_type": "code",
   "execution_count": null,
   "id": "6a06e6a1",
   "metadata": {},
   "outputs": [],
   "source": [
    "#calculating total share"
   ]
  },
  {
   "cell_type": "code",
   "execution_count": null,
   "id": "88eb73cc",
   "metadata": {},
   "outputs": [],
   "source": [
    "df_p6['total_coef'] = df_p6['p_w_p'] + df_p6['p_w_s'] + df_p6['p_r_p'] + df_p6['p_r_s'] + df_p6['p_p_p'] + df_p6['total_allocation_distribution'] + df_p6['payout_coef_m_o_c'] + df_p6['payout_coef_m_e_r'] + df_p6['payout_coef_m_c']"
   ]
  },
  {
   "cell_type": "code",
   "execution_count": null,
   "id": "53881c3c",
   "metadata": {},
   "outputs": [],
   "source": [
    "df_p6['score'] = df_p6[\"total_coef\"]*50000"
   ]
  },
  {
   "cell_type": "code",
   "execution_count": null,
   "id": "8e7f637c",
   "metadata": {},
   "outputs": [],
   "source": [
    "df_p6 = (df_p6.sort_values(by='score', ascending=False)).reset_index(drop=True)"
   ]
  },
  {
   "cell_type": "code",
   "execution_count": null,
   "id": "a94ce957",
   "metadata": {
    "scrolled": false
   },
   "outputs": [],
   "source": [
    "df_p6['score'].sum()"
   ]
  },
  {
   "cell_type": "code",
   "execution_count": null,
   "id": "d3087ef5",
   "metadata": {},
   "outputs": [],
   "source": [
    "#dropping the users with no distribution"
   ]
  },
  {
   "cell_type": "code",
   "execution_count": null,
   "id": "11025250",
   "metadata": {},
   "outputs": [],
   "source": [
    "empty_wal = df_p6[ df_p6['score'] == 0 ].index"
   ]
  },
  {
   "cell_type": "code",
   "execution_count": null,
   "id": "72eb2851",
   "metadata": {},
   "outputs": [],
   "source": [
    "df_p6.drop(empty_wal, inplace=True)"
   ]
  },
  {
   "cell_type": "code",
   "execution_count": null,
   "id": "257bed57",
   "metadata": {},
   "outputs": [],
   "source": [
    "#binning and tagging with status based on forum activity"
   ]
  },
  {
   "cell_type": "code",
   "execution_count": null,
   "id": "76cca6c4",
   "metadata": {},
   "outputs": [],
   "source": [
    "bin_labels = ['Dimond', 'Gold', 'Silver', 'Bronz']\n",
    "df_p6['NFT_status'] = pd.qcut(df_p6.index, q=4, labels=bin_labels)"
   ]
  },
  {
   "cell_type": "code",
   "execution_count": null,
   "id": "e1e719f0",
   "metadata": {
    "scrolled": false
   },
   "outputs": [],
   "source": [
    "df_p6['NFT_status'].value_counts()"
   ]
  },
  {
   "cell_type": "code",
   "execution_count": null,
   "id": "b0411f94",
   "metadata": {},
   "outputs": [],
   "source": [
    "df_p6.head(15)"
   ]
  },
  {
   "cell_type": "markdown",
   "id": "f742d1a2",
   "metadata": {},
   "source": [
    "first_shot = df_p6.filter(['user_id', 'username_lower_x','score','NFT_status'], axis=1)\n",
    "first_shot"
   ]
  },
  {
   "cell_type": "code",
   "execution_count": null,
   "id": "1f1f378c",
   "metadata": {},
   "outputs": [],
   "source": [
    "#Voting addresses based on snapshot "
   ]
  },
  {
   "cell_type": "code",
   "execution_count": null,
   "id": "49c0ce9a",
   "metadata": {},
   "outputs": [],
   "source": [
    "vote_report_d = pd.read_csv('snapshot-report-d.csv')\n",
    "vote_report_h = pd.read_csv('snapshot-report-h.csv')"
   ]
  },
  {
   "cell_type": "code",
   "execution_count": null,
   "id": "6b5f5a3d",
   "metadata": {},
   "outputs": [],
   "source": [
    "vote_hopr = pd.DataFrame(vote_report_h['address'])\n",
    "vote_dai = pd.DataFrame(vote_report_d['address'])"
   ]
  },
  {
   "cell_type": "code",
   "execution_count": null,
   "id": "335bd40d",
   "metadata": {},
   "outputs": [],
   "source": [
    "vote = (pd.concat([vote_hopr, vote_dai])).reset_index(drop=True)"
   ]
  },
  {
   "cell_type": "code",
   "execution_count": null,
   "id": "b89c02e5",
   "metadata": {},
   "outputs": [],
   "source": [
    "vote['address'] = vote['address'].str.lower()"
   ]
  },
  {
   "cell_type": "code",
   "execution_count": null,
   "id": "348dd782",
   "metadata": {},
   "outputs": [],
   "source": [
    "df_vote = (vote.groupby(['address']).agg({'address': ['count']} )).reset_index(drop=False)\n",
    "df_vote"
   ]
  },
  {
   "cell_type": "code",
   "execution_count": null,
   "id": "a9bc1a0a",
   "metadata": {},
   "outputs": [],
   "source": [
    "df_vote.columns = [\"nft_add\", \"vote_count\"]"
   ]
  },
  {
   "cell_type": "code",
   "execution_count": null,
   "id": "694ed4da",
   "metadata": {},
   "outputs": [],
   "source": [
    "df_vote[\"voter\"] = 1 "
   ]
  },
  {
   "cell_type": "code",
   "execution_count": null,
   "id": "95b75b5b",
   "metadata": {},
   "outputs": [],
   "source": [
    "df_p6['nft_add'] = df_p6['nft_add'].str.lower()"
   ]
  },
  {
   "cell_type": "code",
   "execution_count": null,
   "id": "ff411d64",
   "metadata": {},
   "outputs": [],
   "source": [
    "#merging the addresses from the forum data and from the snapshot"
   ]
  },
  {
   "cell_type": "code",
   "execution_count": null,
   "id": "dbec846f",
   "metadata": {},
   "outputs": [],
   "source": [
    "df_p7 = pd.merge(df_p6, df_vote, how=\"outer\", on=[\"nft_add\"])"
   ]
  },
  {
   "cell_type": "code",
   "execution_count": null,
   "id": "686adf6d",
   "metadata": {
    "scrolled": true
   },
   "outputs": [],
   "source": [
    "df_p7['NFT_status'].isna().sum()"
   ]
  },
  {
   "cell_type": "code",
   "execution_count": null,
   "id": "7c1e5487",
   "metadata": {},
   "outputs": [],
   "source": [
    "#giving every user at least \"bronze\" status - hence the only voting participants did not necesairly participated in the forum discussion"
   ]
  },
  {
   "cell_type": "code",
   "execution_count": null,
   "id": "3b347d14",
   "metadata": {},
   "outputs": [],
   "source": [
    "df_p7['NFT_status'] = df_p7[\"NFT_status\"].fillna(method=\"ffill\")"
   ]
  },
  {
   "cell_type": "code",
   "execution_count": null,
   "id": "bc4d0c36",
   "metadata": {
    "scrolled": false
   },
   "outputs": [],
   "source": [
    "df_p7[\"NFT_status\"].value_counts()"
   ]
  },
  {
   "cell_type": "code",
   "execution_count": null,
   "id": "753e7673",
   "metadata": {},
   "outputs": [],
   "source": [
    "#share checking"
   ]
  },
  {
   "cell_type": "code",
   "execution_count": null,
   "id": "b2dad1cd",
   "metadata": {},
   "outputs": [],
   "source": [
    "df_p7['total_allocation_distribution'].sum()"
   ]
  },
  {
   "cell_type": "code",
   "execution_count": null,
   "id": "c3cfa881",
   "metadata": {},
   "outputs": [],
   "source": [
    "df_p7['payout_coef_m_o_c'].sum()"
   ]
  },
  {
   "cell_type": "code",
   "execution_count": null,
   "id": "2605d02f",
   "metadata": {},
   "outputs": [],
   "source": [
    "df_p7['payout_coef_m_e_r'].sum()"
   ]
  },
  {
   "cell_type": "code",
   "execution_count": null,
   "id": "6eda3003",
   "metadata": {},
   "outputs": [],
   "source": [
    "df_p7['payout_coef_m_c'].sum()"
   ]
  },
  {
   "cell_type": "code",
   "execution_count": null,
   "id": "98ebea48",
   "metadata": {
    "scrolled": false
   },
   "outputs": [],
   "source": [
    "df_p7['score'].fillna(0)"
   ]
  },
  {
   "cell_type": "markdown",
   "id": "51db2690",
   "metadata": {},
   "source": [
    "pd.options.display.float_format = '{:,.0f}'.format"
   ]
  },
  {
   "cell_type": "code",
   "execution_count": null,
   "id": "839281b7",
   "metadata": {},
   "outputs": [],
   "source": [
    "col=np.array(df_p7['score'], np.int16)"
   ]
  },
  {
   "cell_type": "code",
   "execution_count": null,
   "id": "7a8bbd21",
   "metadata": {},
   "outputs": [],
   "source": [
    "df_p7['score_int']=col"
   ]
  },
  {
   "cell_type": "code",
   "execution_count": null,
   "id": "0cf520e4",
   "metadata": {},
   "outputs": [],
   "source": [
    "df_p7"
   ]
  },
  {
   "cell_type": "markdown",
   "id": "8f5a8991",
   "metadata": {},
   "source": [
    "second_sho = df_p7.filter(['user_id', 'username_lower_x','score_int','NFT_status', 'vote_count','voter'], axis=1)\n",
    "second_sho"
   ]
  },
  {
   "cell_type": "code",
   "execution_count": null,
   "id": "c99324c9",
   "metadata": {},
   "outputs": [],
   "source": [
    "df_p7.to_csv('dao_eval.csv')"
   ]
  },
  {
   "cell_type": "markdown",
   "id": "2e559bd6",
   "metadata": {},
   "source": [
    "allocation = df_p6.filter(['user_id','total_coef','score','NFT_status'], axis=1)"
   ]
  },
  {
   "cell_type": "markdown",
   "id": "417bb480",
   "metadata": {},
   "source": [
    "allocation.to_csv('allocations.csv')"
   ]
  },
  {
   "cell_type": "code",
   "execution_count": null,
   "id": "c69ed70d",
   "metadata": {},
   "outputs": [],
   "source": [
    "y = df_p6['total_coef']\n",
    "x = df_p6['user_id']"
   ]
  },
  {
   "cell_type": "code",
   "execution_count": null,
   "id": "610c3fdb",
   "metadata": {},
   "outputs": [],
   "source": [
    "plt.pie(y, labels=x)\n",
    "plt.show"
   ]
  },
  {
   "cell_type": "code",
   "execution_count": null,
   "id": "b37dd115",
   "metadata": {},
   "outputs": [],
   "source": [
    "#vote analitics "
   ]
  },
  {
   "cell_type": "code",
   "execution_count": null,
   "id": "6288c3ab",
   "metadata": {},
   "outputs": [],
   "source": [
    "vote_report_d = vote_report_d.fillna(0)\n",
    "vote_report_h = vote_report_h.fillna(0)"
   ]
  },
  {
   "cell_type": "code",
   "execution_count": null,
   "id": "654b1cf4",
   "metadata": {},
   "outputs": [],
   "source": [
    "vote_report_d.head(25)"
   ]
  },
  {
   "cell_type": "code",
   "execution_count": null,
   "id": "b2d08e51",
   "metadata": {},
   "outputs": [],
   "source": [
    "vote_report_d['choice.1'] = vote_report_d['choice.1'].apply(lambda x: 1 if x != 0 else 0)\n",
    "vote_report_d['choice.2'] = vote_report_d['choice.2'].apply(lambda x: 1 if x != 0 else 0)\n",
    "vote_report_d['choice.3'] = vote_report_d['choice.3'].apply(lambda x: 1 if x != 0 else 0)\n",
    "vote_report_d['choice.4'] = vote_report_d['choice.4'].apply(lambda x: 1 if x != 0 else 0)\n",
    "vote_report_d['choice.5'] = vote_report_d['choice.5'].apply(lambda x: 1 if x != 0 else 0)\n",
    "vote_report_d['choice.6'] = vote_report_d['choice.6'].apply(lambda x: 1 if x != 0 else 0)\n",
    "vote_report_d['choice.7'] = vote_report_d['choice.7'].apply(lambda x: 1 if x != 0 else 0)"
   ]
  },
  {
   "cell_type": "code",
   "execution_count": null,
   "id": "4e94df40",
   "metadata": {},
   "outputs": [],
   "source": [
    "vote_report_h['choice.1'] = vote_report_h['choice.1'].apply(lambda x: 1 if x != 0 else 0)\n",
    "vote_report_h['choice.2'] = vote_report_h['choice.2'].apply(lambda x: 1 if x != 0 else 0)\n",
    "vote_report_h['choice.3'] = vote_report_h['choice.3'].apply(lambda x: 1 if x != 0 else 0)\n",
    "vote_report_h['choice.4'] = vote_report_h['choice.4'].apply(lambda x: 1 if x != 0 else 0)\n",
    "vote_report_h['choice.5'] = vote_report_h['choice.5'].apply(lambda x: 1 if x != 0 else 0)"
   ]
  },
  {
   "cell_type": "code",
   "execution_count": null,
   "id": "5be09311",
   "metadata": {
    "scrolled": false
   },
   "outputs": [],
   "source": [
    "vote_report_d['choices'] = vote_report_d['choice.1'] + vote_report_d['choice.2'] + vote_report_d['choice.3'] + vote_report_d['choice.4'] + vote_report_d['choice.5'] + vote_report_d['choice.6'] + vote_report_d['choice.7']"
   ]
  },
  {
   "cell_type": "code",
   "execution_count": null,
   "id": "75e6988a",
   "metadata": {},
   "outputs": [],
   "source": [
    "vote_report_h['choices'] = vote_report_h['choice.1'] + vote_report_h['choice.2'] + vote_report_h['choice.3'] + vote_report_h['choice.4'] + vote_report_h['choice.5']"
   ]
  },
  {
   "cell_type": "code",
   "execution_count": null,
   "id": "ec399ba0",
   "metadata": {},
   "outputs": [],
   "source": [
    "vote_report_d['choices'].value_counts()"
   ]
  },
  {
   "cell_type": "code",
   "execution_count": null,
   "id": "ea62698e",
   "metadata": {},
   "outputs": [],
   "source": [
    "vote_report_h['choices'].value_counts()"
   ]
  },
  {
   "cell_type": "code",
   "execution_count": null,
   "id": "8836605c",
   "metadata": {},
   "outputs": [],
   "source": []
  }
 ],
 "metadata": {
  "kernelspec": {
   "display_name": "Python 3 (ipykernel)",
   "language": "python",
   "name": "python3"
  },
  "language_info": {
   "codemirror_mode": {
    "name": "ipython",
    "version": 3
   },
   "file_extension": ".py",
   "mimetype": "text/x-python",
   "name": "python",
   "nbconvert_exporter": "python",
   "pygments_lexer": "ipython3",
   "version": "3.7.1"
  }
 },
 "nbformat": 4,
 "nbformat_minor": 5
}
