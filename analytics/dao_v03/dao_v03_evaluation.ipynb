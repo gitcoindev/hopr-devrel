{
 "cells": [
  {
   "cell_type": "code",
   "execution_count": null,
   "id": "542301e3",
   "metadata": {},
   "outputs": [],
   "source": [
    "from functools import reduce"
   ]
  },
  {
   "cell_type": "code",
   "execution_count": null,
   "id": "b5ad3798",
   "metadata": {},
   "outputs": [],
   "source": [
    "import pandas as pd\n",
    "import numpy as np\n",
    "#import openpyxl\n",
    "import requests\n",
    "import json\n",
    "import pandas as pd\n",
    "from os import path\n",
    "import matplotlib.pyplot as plt\n",
    "%matplotlib inline\n",
    "import scipy.stats"
   ]
  },
  {
   "cell_type": "markdown",
   "id": "4ac9c443",
   "metadata": {},
   "source": [
    "The file contains the DAO v0.3 evaluation, including the HOPR forum plugins, and the votes on snapshot \n",
    "CSV file's numbers always refer to the forum plugins, from where they were extracted\n",
    "\n",
    "The abbreviatins follow the logic of the allocation board on the drive: https://docs.google.com/spreadsheets/d/1netmY3CkYo06PxdDMv4jqifty24Y6gBnHQko0ZyVmzE/edit#gid=0 \n",
    "\n",
    "Winning proposal \tP_W_P\n",
    "Winning siniture \tP_W_S\n",
    "Vote stage not winning**\tP_V_P\n",
    "Vote stage signitures \tP_V_S\n",
    "Referendum stage not voting\tP_R_P\n",
    "Referendum stage not voting signitures\tP_R_S\n",
    "Ten posts with most support\tD_P_L\n",
    "Ten users with most total likes across discussion\tD_U_L\n",
    "Users with three posts with 3+ likes each\tU_T_T\n",
    "At least one of contribution\tM_O_C\n",
    "Highest efficiency ratio\tM_E_R\n",
    "Consistent contribution\tM_C\n",
    "Moderator power\tM_M\n",
    "Best technical contribution\tT_C\n"
   ]
  },
  {
   "cell_type": "markdown",
   "id": "767e3e80",
   "metadata": {},
   "source": [
    "TO DO LIST:\n",
    "\n",
    "- changing the FORUM CSV files to new ones - checking the final amount \n",
    "- modifying the m_m user_ids, and the calculation of the 5% share, based on the number of rewarded participants\n",
    "- remowing duplications at the of the code "
   ]
  },
  {
   "cell_type": "code",
   "execution_count": null,
   "id": "239674c6",
   "metadata": {
    "scrolled": false
   },
   "outputs": [],
   "source": [
    "#proposals and their status\n",
    "#manually created file\n",
    "df_proposals = pd.read_csv('dao_v03_1_proposals.csv')\n",
    "df_proposals"
   ]
  },
  {
   "cell_type": "code",
   "execution_count": null,
   "id": "a637343b",
   "metadata": {},
   "outputs": [],
   "source": [
    "#creating a column for proposals being considered as valid\n",
    "df_proposals[\"ref\"] = 1\n",
    "refer = df_proposals[[\"post_id\", \"ref\"]]"
   ]
  },
  {
   "cell_type": "code",
   "execution_count": null,
   "id": "131c727d",
   "metadata": {
    "scrolled": false
   },
   "outputs": [],
   "source": [
    "#signitures given to proposals\n",
    "df_signitures = pd.read_csv('dao_v03_5_distributions.csv')\n",
    "df_signitures"
   ]
  },
  {
   "cell_type": "code",
   "execution_count": null,
   "id": "3eeebdf0",
   "metadata": {},
   "outputs": [],
   "source": [
    "#dropping signatures which are not considered\n",
    "df_signitures = pd.merge(df_signitures, refer, how=\"outer\", on=[\"post_id\"])"
   ]
  },
  {
   "cell_type": "code",
   "execution_count": null,
   "id": "ac2f18f9",
   "metadata": {
    "scrolled": true
   },
   "outputs": [],
   "source": [
    "df_signitures = df_signitures[df_signitures['ref'].notna()]\n",
    "df_signitures.head(2)"
   ]
  },
  {
   "cell_type": "code",
   "execution_count": null,
   "id": "cd330319",
   "metadata": {
    "scrolled": true
   },
   "outputs": [],
   "source": [
    "#mergind the proposal and the signiture files\n",
    "df_merge_pr_si = pd.merge(df_signitures, df_proposals, how=\"outer\", on=[\"topic_id\"])"
   ]
  },
  {
   "cell_type": "code",
   "execution_count": null,
   "id": "c64e0ab8",
   "metadata": {},
   "outputs": [],
   "source": [
    "# checking the max number of signitures - if someone liked more than 8, must be out\n",
    "df_merge_pr_si[\"user_id_x\"].value_counts().reset_index()"
   ]
  },
  {
   "cell_type": "markdown",
   "id": "fc36c92e",
   "metadata": {},
   "source": [
    "### WINNING PROPOSAL P-W-P"
   ]
  },
  {
   "cell_type": "code",
   "execution_count": null,
   "id": "3be567f5",
   "metadata": {
    "scrolled": false
   },
   "outputs": [],
   "source": [
    "#winning proposal P_W_P\n",
    "p_w_p = df_proposals[df_proposals['winning'] == 1].reset_index(drop=True)\n",
    "p_w_p = p_w_p[['user_id','winning']]\n",
    "p_w_p"
   ]
  },
  {
   "cell_type": "code",
   "execution_count": null,
   "id": "6a51fb09",
   "metadata": {},
   "outputs": [],
   "source": [
    "#post_id of winning proposal\n",
    "winner_post_id = [11019]"
   ]
  },
  {
   "cell_type": "markdown",
   "id": "c9a23fa2",
   "metadata": {},
   "source": [
    "### WINNING SIGNITORIES P-W-S"
   ]
  },
  {
   "cell_type": "code",
   "execution_count": null,
   "id": "e27df40a",
   "metadata": {},
   "outputs": [],
   "source": [
    "#celectingt the signitories which sign the winning proposal\n",
    "p_w_s = df_signitures.loc[df_signitures['post_id'].isin(winner_post_id)].reset_index(drop=True)"
   ]
  },
  {
   "cell_type": "code",
   "execution_count": null,
   "id": "9971b4c3",
   "metadata": {},
   "outputs": [],
   "source": [
    "#dropping the proposer from the list of signatories\n",
    "p_w_s = p_w_s[p_w_s['user_id'] != 544]"
   ]
  },
  {
   "cell_type": "code",
   "execution_count": null,
   "id": "ee3a2999",
   "metadata": {
    "scrolled": false
   },
   "outputs": [],
   "source": [
    "p_w_s = p_w_s[['user_id','ref']].rename(columns={'ref': 'winning_signitures'}).reset_index(drop=True)"
   ]
  },
  {
   "cell_type": "code",
   "execution_count": null,
   "id": "8844a27f",
   "metadata": {
    "scrolled": true
   },
   "outputs": [],
   "source": [
    "#summing up by user_id\n",
    "p_w_s = p_w_s.groupby(by=\"user_id\").sum().reset_index(drop=False)\n",
    "p_w_s"
   ]
  },
  {
   "cell_type": "markdown",
   "id": "6430ebf4",
   "metadata": {},
   "source": [
    "### VOTE STAGE PROPOSALS - P_V_P"
   ]
  },
  {
   "cell_type": "code",
   "execution_count": null,
   "id": "bddf4224",
   "metadata": {
    "scrolled": true
   },
   "outputs": [],
   "source": [
    "#creating a dataframe from the proposals\n",
    "df_vote_stage_pr = df_proposals[df_proposals['vote_stage'] == 1].reset_index(drop=True)\n",
    "df_vote_stage_pr.head(5)"
   ]
  },
  {
   "cell_type": "code",
   "execution_count": null,
   "id": "6b2adf5e",
   "metadata": {
    "scrolled": true
   },
   "outputs": [],
   "source": [
    "#vote stage proposers\n",
    "p_v_p = df_vote_stage_pr[['user_id','vote_stage']]"
   ]
  },
  {
   "cell_type": "code",
   "execution_count": null,
   "id": "95f236fc",
   "metadata": {
    "scrolled": true
   },
   "outputs": [],
   "source": [
    "#summing up by user_id\n",
    "p_v_p = p_v_p.groupby(by=\"user_id\").sum().reset_index(drop=False)\n",
    "p_v_p"
   ]
  },
  {
   "cell_type": "markdown",
   "id": "7e72798e",
   "metadata": {},
   "source": [
    "### VOTE STAGE SIGNITURES - P_V_S"
   ]
  },
  {
   "cell_type": "code",
   "execution_count": null,
   "id": "c90dfd87",
   "metadata": {
    "scrolled": true
   },
   "outputs": [],
   "source": [
    "#creating a dataframe from the signitures\n",
    "df_vote_stage_si = df_signitures.loc[df_signitures['post_id'].isin(df_vote_stage_pr['post_id'])].reset_index(drop=True)"
   ]
  },
  {
   "cell_type": "code",
   "execution_count": null,
   "id": "2dbb8e19",
   "metadata": {},
   "outputs": [],
   "source": [
    "df_vote_stage_si.head(5)"
   ]
  },
  {
   "cell_type": "code",
   "execution_count": null,
   "id": "937221d4",
   "metadata": {},
   "outputs": [],
   "source": [
    "# adding a variable, which is a combination of post id and user id, to remove proposers form the signitories\n",
    "df_vote_stage_si = df_vote_stage_si.assign(combi2 = (df_vote_stage_si['post_id'].apply(lambda x: str(x))) + (df_vote_stage_si['user_id'].apply(lambda x: str(x))))"
   ]
  },
  {
   "cell_type": "code",
   "execution_count": null,
   "id": "d47f3f03",
   "metadata": {
    "scrolled": false
   },
   "outputs": [],
   "source": [
    "#list of proposers\n",
    "p_v_s_proposers = df_vote_stage_pr[['user_id', 'post_id']]\n",
    "p_v_s_proposers.head(5)"
   ]
  },
  {
   "cell_type": "code",
   "execution_count": null,
   "id": "b697c2a7",
   "metadata": {},
   "outputs": [],
   "source": [
    "#adding the same variable to the list of proposers\n",
    "p_v_s_proposers = p_v_s_proposers.assign(combi2 = (p_v_s_proposers['post_id'].apply(lambda x: str(x))) + (p_v_s_proposers['user_id'].apply(lambda x: str(x))))"
   ]
  },
  {
   "cell_type": "code",
   "execution_count": null,
   "id": "f27c573c",
   "metadata": {
    "scrolled": true
   },
   "outputs": [],
   "source": [
    "p_v_s_proposers.head(5)"
   ]
  },
  {
   "cell_type": "code",
   "execution_count": null,
   "id": "1e09a9e3",
   "metadata": {},
   "outputs": [],
   "source": [
    "#removing the proposers\n",
    "vote_signitures_without_proposers = df_vote_stage_si.loc[~df_vote_stage_si['combi2'].isin(p_v_s_proposers['combi2'])].reset_index(drop=True)"
   ]
  },
  {
   "cell_type": "code",
   "execution_count": null,
   "id": "5a1e0264",
   "metadata": {},
   "outputs": [],
   "source": [
    "vote_signitures_without_proposers.head(5)"
   ]
  },
  {
   "cell_type": "code",
   "execution_count": null,
   "id": "ec3fd831",
   "metadata": {
    "scrolled": true
   },
   "outputs": [],
   "source": [
    "# signitures given for the not winning vote stage proposals\n",
    "p_v_s = vote_signitures_without_proposers[['user_id', 'ref']]\n",
    "p_v_s = p_v_s.rename(columns={'ref': 'vote_stage_signitures'}).reset_index(drop=True)\n",
    "p_v_s"
   ]
  },
  {
   "cell_type": "code",
   "execution_count": null,
   "id": "bfe76508",
   "metadata": {
    "scrolled": true
   },
   "outputs": [],
   "source": [
    "#summing up the signitures\n",
    "p_v_s = p_v_s.groupby(by=\"user_id\").sum().reset_index(drop=False)\n",
    "p_v_s"
   ]
  },
  {
   "cell_type": "markdown",
   "id": "684cdb92",
   "metadata": {},
   "source": [
    "### REFERENDUM STAGE PROPOSALS - P_R_P"
   ]
  },
  {
   "cell_type": "code",
   "execution_count": null,
   "id": "315f155e",
   "metadata": {
    "scrolled": false
   },
   "outputs": [],
   "source": [
    "#proposals\n",
    "df_no_vote_pr = df_proposals[df_proposals['no_vote'] == 1].reset_index(drop=True)"
   ]
  },
  {
   "cell_type": "code",
   "execution_count": null,
   "id": "29dbce74",
   "metadata": {
    "scrolled": true
   },
   "outputs": [],
   "source": [
    "#no_vote stage proposals\n",
    "p_r_p = df_no_vote_pr[['user_id','no_vote']]"
   ]
  },
  {
   "cell_type": "code",
   "execution_count": null,
   "id": "da8fa2c0",
   "metadata": {
    "scrolled": true
   },
   "outputs": [],
   "source": [
    "#summing up the proposals by user_id\n",
    "p_r_p = p_r_p.groupby(by=\"user_id\").sum().reset_index(drop=False)\n",
    "p_r_p"
   ]
  },
  {
   "cell_type": "markdown",
   "id": "d2bcddb3",
   "metadata": {},
   "source": [
    "### REFERENDUM STAGE SIGNITURES - P_R_S"
   ]
  },
  {
   "cell_type": "code",
   "execution_count": null,
   "id": "42808bd9",
   "metadata": {
    "scrolled": true
   },
   "outputs": [],
   "source": [
    "df_no_vote_si = df_no_vote_pr[['user_id','post_id','no_vote']]"
   ]
  },
  {
   "cell_type": "code",
   "execution_count": null,
   "id": "f0607f1c",
   "metadata": {},
   "outputs": [],
   "source": [
    "#creating a variable to remove the proposers\n",
    "df_no_vote_si = df_no_vote_si.assign(combi2 = (df_no_vote_si['post_id'].apply(lambda x: str(x))) + (df_no_vote_si['user_id'].apply(lambda x: str(x))))"
   ]
  },
  {
   "cell_type": "code",
   "execution_count": null,
   "id": "5d5025e0",
   "metadata": {},
   "outputs": [],
   "source": [
    "# proposal's post_id\n",
    "df_no_vote_signitures = df_signitures.loc[df_signitures['post_id'].isin(df_no_vote_pr['post_id'])].reset_index(drop=True)"
   ]
  },
  {
   "cell_type": "code",
   "execution_count": null,
   "id": "a38ddc2a",
   "metadata": {},
   "outputs": [],
   "source": [
    "#creating a variable to remove the proposers\n",
    "df_no_vote_signitures = df_no_vote_signitures.assign(combi2 = (df_no_vote_signitures['post_id'].apply(lambda x: str(x))) + (df_no_vote_signitures['user_id'].apply(lambda x: str(x))))"
   ]
  },
  {
   "cell_type": "code",
   "execution_count": null,
   "id": "d6ce6ce6",
   "metadata": {},
   "outputs": [],
   "source": [
    "#removing proposers\n",
    "no_vote_signitures_without_proposers = df_no_vote_signitures.loc[~df_no_vote_signitures['combi2'].isin(df_no_vote_si['combi2'])].reset_index(drop=True)"
   ]
  },
  {
   "cell_type": "code",
   "execution_count": null,
   "id": "1f3a3488",
   "metadata": {},
   "outputs": [],
   "source": [
    "#subfil\n",
    "p_r_s = no_vote_signitures_without_proposers[['user_id', 'ref']].rename(columns={'ref': 'no_vote_signitures'}).reset_index(drop=True)"
   ]
  },
  {
   "cell_type": "code",
   "execution_count": null,
   "id": "905b7313",
   "metadata": {
    "scrolled": false
   },
   "outputs": [],
   "source": [
    "#adding up the votes\n",
    "p_r_s = p_r_s.groupby(by=\"user_id\").sum().reset_index(drop=False)\n",
    "p_r_s"
   ]
  },
  {
   "cell_type": "markdown",
   "id": "62265be6",
   "metadata": {},
   "source": [
    "### DISCUSSION (D_P_L, D_U_L, U_T_T)"
   ]
  },
  {
   "cell_type": "code",
   "execution_count": null,
   "id": "a6b74d33",
   "metadata": {
    "scrolled": false
   },
   "outputs": [],
   "source": [
    "df_discussion = pd.read_csv('dao_v03_6_discussion.csv', names=['user_id', 'total_allocation', 'd_p_l', 'd_u_l', 'u_t_t'], header=0)"
   ]
  },
  {
   "cell_type": "code",
   "execution_count": null,
   "id": "4174ecd6",
   "metadata": {
    "scrolled": true
   },
   "outputs": [],
   "source": [
    "df_discussion.head(5)"
   ]
  },
  {
   "cell_type": "code",
   "execution_count": null,
   "id": "7ce3b660",
   "metadata": {},
   "outputs": [],
   "source": [
    "df_discussion['user_id'] = df_discussion['user_id'].fillna(0)"
   ]
  },
  {
   "cell_type": "markdown",
   "id": "422987d3",
   "metadata": {},
   "source": [
    "### MISCELLANEOUS_1 - M_O_C "
   ]
  },
  {
   "cell_type": "code",
   "execution_count": null,
   "id": "864969ca",
   "metadata": {
    "scrolled": false
   },
   "outputs": [],
   "source": [
    "df_miscellaneous_1 = pd.read_csv('dao_v03_7_miscellaneous_1.csv', names=['user_id', 'm_o_c', 'count'], header=0)\n",
    "df_miscellaneous_1.head(5)"
   ]
  },
  {
   "cell_type": "markdown",
   "id": "d17663d0",
   "metadata": {},
   "source": [
    "### MISCELLANEOUS_2 M_E_R"
   ]
  },
  {
   "cell_type": "code",
   "execution_count": null,
   "id": "a1d35c83",
   "metadata": {
    "scrolled": false
   },
   "outputs": [],
   "source": [
    "df_miscellaneous_2 = pd.read_csv('dao_v03_8_miscellaneous_2.csv', names=['user_id', 'coef', 'm_e_r'], header=0)\n",
    "df_miscellaneous_2.head(5)"
   ]
  },
  {
   "cell_type": "markdown",
   "id": "55085909",
   "metadata": {},
   "source": [
    "### MISCELLANEOUS_3 M_C"
   ]
  },
  {
   "cell_type": "code",
   "execution_count": null,
   "id": "37c7938d",
   "metadata": {
    "scrolled": false
   },
   "outputs": [],
   "source": [
    "df_miscellaneous_3 = pd.read_csv('dao_v03_9_miscellaneous_3.csv', names=['user_id', 'post_id', 'm_c', 'count'], header=0)\n",
    "df_miscellaneous_3"
   ]
  },
  {
   "cell_type": "code",
   "execution_count": null,
   "id": "aab221dc",
   "metadata": {},
   "outputs": [],
   "source": [
    "df_miscellaneous_3 = df_miscellaneous_3.groupby(by=\"user_id\").sum().reset_index(drop=False)\n",
    "df_miscellaneous_3"
   ]
  },
  {
   "cell_type": "markdown",
   "id": "c9001cc5",
   "metadata": {},
   "source": [
    "### MODERATOR POWER M_M"
   ]
  },
  {
   "cell_type": "code",
   "execution_count": null,
   "id": "e9fb657a",
   "metadata": {},
   "outputs": [],
   "source": [
    "#NEED TO BE MODIFIED, the user_ids were not decided yet!!!\n",
    "#consider the number of participants in the share (4 participants at the moment)\n",
    "m_m = pd.DataFrame({'user_id': [603, 594, 1307, 810], 'm_m': [0.05/4, 0.05/4, 0.05/4, 0.05/4]}).reset_index(drop=True)\n",
    "m_m"
   ]
  },
  {
   "cell_type": "markdown",
   "id": "9464a691",
   "metadata": {},
   "source": [
    "### TECH POWER T_C"
   ]
  },
  {
   "cell_type": "code",
   "execution_count": null,
   "id": "d06fd082",
   "metadata": {},
   "outputs": [],
   "source": [
    "t_c = pd.DataFrame({'user_id': [603, 594, 1307, 810], 't_c': [0.1/4, 0.1/4, 0.1/4, 0.1/4]}).reset_index(drop=True)"
   ]
  },
  {
   "cell_type": "markdown",
   "id": "549b579c",
   "metadata": {},
   "source": [
    "### WALET AND NFT ADDRESS"
   ]
  },
  {
   "cell_type": "code",
   "execution_count": null,
   "id": "c26021c2",
   "metadata": {
    "scrolled": true
   },
   "outputs": [],
   "source": [
    "wallet_address = pd.read_csv('wallet_address_10.csv', names=['id', 'username_lower', 'user_id', 'add'], header=0)\n",
    "wallet_address"
   ]
  },
  {
   "cell_type": "code",
   "execution_count": null,
   "id": "55ff823f",
   "metadata": {
    "scrolled": true
   },
   "outputs": [],
   "source": [
    "nft_address = pd.read_csv('nft_address_11.csv', names=['id', 'username_lower', 'user_id', 'nft_add'], header=0)\n",
    "nft_address"
   ]
  },
  {
   "cell_type": "code",
   "execution_count": null,
   "id": "147ebd3c",
   "metadata": {},
   "outputs": [],
   "source": [
    "#merging them\n",
    "addresses = pd.merge(wallet_address, nft_address, how=\"outer\", on=[\"user_id\"])"
   ]
  },
  {
   "cell_type": "code",
   "execution_count": null,
   "id": "ccd8f306",
   "metadata": {},
   "outputs": [],
   "source": [
    "#creating a subfile\n",
    "addresses = addresses[['user_id', 'add', 'nft_add']]\n",
    "addresses"
   ]
  },
  {
   "cell_type": "markdown",
   "id": "2f5c2d4a",
   "metadata": {},
   "source": [
    "### merging categories and wallets"
   ]
  },
  {
   "cell_type": "code",
   "execution_count": null,
   "id": "b93fdb3d",
   "metadata": {},
   "outputs": [],
   "source": [
    "#creating a list of dataframes from the categories\n",
    "categories = [p_w_p, p_w_s, p_v_p, p_v_s, p_r_p, p_r_s, df_discussion, df_miscellaneous_1, df_miscellaneous_2, df_miscellaneous_3, m_m, t_c]"
   ]
  },
  {
   "cell_type": "code",
   "execution_count": null,
   "id": "b81dc54b",
   "metadata": {},
   "outputs": [],
   "source": [
    "#merging each element of the list, after each other, every category can add new user_id\n",
    "df_merged_0 = reduce(lambda  left,right: pd.merge(left,right,on=['user_id'], how='outer'), categories)\n",
    "df_merged_0"
   ]
  },
  {
   "cell_type": "code",
   "execution_count": null,
   "id": "2c4fc837",
   "metadata": {},
   "outputs": [],
   "source": [
    "#merging the dataframe with the addresses - here only the existing user_ids are consideres from the wallet list\n",
    "df_merged = pd.merge(df_merged_0, addresses, how='left', on=[\"user_id\"])\n",
    "df_merged.head(5)"
   ]
  },
  {
   "cell_type": "code",
   "execution_count": null,
   "id": "bec3e473",
   "metadata": {},
   "outputs": [],
   "source": [
    "#removing admins - user_ids which are belong to a team member"
   ]
  },
  {
   "cell_type": "code",
   "execution_count": null,
   "id": "52e5f4cb",
   "metadata": {},
   "outputs": [],
   "source": [
    "#also available on the forum\n",
    "admin = pd.read_csv('admin.csv', names=['user_id', 'usename'], header=0)"
   ]
  },
  {
   "cell_type": "code",
   "execution_count": null,
   "id": "cd0eb22a",
   "metadata": {},
   "outputs": [],
   "source": [
    "#adding a variable with value = 1\n",
    "admin.loc[:,'admin'] = 1"
   ]
  },
  {
   "cell_type": "code",
   "execution_count": null,
   "id": "001e69f5",
   "metadata": {},
   "outputs": [],
   "source": [
    "#merging with the dataframe\n",
    "df_merged = pd.merge(df_merged, admin, how=\"left\", on=[\"user_id\"])\n",
    "df_merged"
   ]
  },
  {
   "cell_type": "code",
   "execution_count": null,
   "id": "7587bc93",
   "metadata": {
    "scrolled": true
   },
   "outputs": [],
   "source": [
    "#NANs changed to 0\n",
    "df_merged = df_merged.fillna(0)"
   ]
  },
  {
   "cell_type": "code",
   "execution_count": null,
   "id": "0f165c97",
   "metadata": {},
   "outputs": [],
   "source": [
    "#if the \"admin\" category is 1, the given used_id is removed\n",
    "df_merged = df_merged[df_merged['admin'] != 1]\n",
    "df_merged"
   ]
  },
  {
   "cell_type": "markdown",
   "id": "619945c3",
   "metadata": {},
   "source": [
    "### calculating coef in the proposal section - based on the allocation bard"
   ]
  },
  {
   "cell_type": "code",
   "execution_count": null,
   "id": "ae0e1a1c",
   "metadata": {},
   "outputs": [],
   "source": [
    "df_merged['p_w_p'] = df_merged['winning']*0.05"
   ]
  },
  {
   "cell_type": "code",
   "execution_count": null,
   "id": "98d9abda",
   "metadata": {},
   "outputs": [],
   "source": [
    "#the allocations are shared between the users in the category, e.g. p_w_s if someone signed the winning proposal, gets the proportional share of the 5%"
   ]
  },
  {
   "cell_type": "code",
   "execution_count": null,
   "id": "1b9747e9",
   "metadata": {},
   "outputs": [],
   "source": [
    "df_merged['p_w_s'] = 0.05/sum(p_w_s[\"winning_signitures\"])*df_merged['winning_signitures']"
   ]
  },
  {
   "cell_type": "code",
   "execution_count": null,
   "id": "1b7d3db4",
   "metadata": {},
   "outputs": [],
   "source": [
    "df_merged['p_v_p'] = 0.09/sum(p_v_p[\"vote_stage\"])*df_merged['vote_stage']"
   ]
  },
  {
   "cell_type": "code",
   "execution_count": null,
   "id": "ea3b405d",
   "metadata": {},
   "outputs": [],
   "source": [
    "df_merged['p_v_s'] = 0.06/sum(p_v_s['vote_stage_signitures'])*df_merged['vote_stage_signitures']"
   ]
  },
  {
   "cell_type": "code",
   "execution_count": null,
   "id": "119839ff",
   "metadata": {},
   "outputs": [],
   "source": [
    "df_merged['p_r_p'] = 0.03/sum(p_r_p['no_vote'])*df_merged['no_vote']"
   ]
  },
  {
   "cell_type": "code",
   "execution_count": null,
   "id": "9048db59",
   "metadata": {},
   "outputs": [],
   "source": [
    "df_merged['p_r_s'] = 0.02/sum(p_r_s[\"no_vote_signitures\"])*df_merged['no_vote_signitures']"
   ]
  },
  {
   "cell_type": "markdown",
   "id": "ea9d7030",
   "metadata": {},
   "source": [
    "### calculating total share"
   ]
  },
  {
   "cell_type": "code",
   "execution_count": null,
   "id": "88eb73cc",
   "metadata": {},
   "outputs": [],
   "source": [
    "#sum of the proportional shares\n",
    "df_merged['total_coef'] = df_merged['p_w_p'] + df_merged['p_w_s'] + df_merged['p_v_p'] + df_merged['p_v_s'] + df_merged['p_r_p'] + df_merged['p_r_s'] + df_merged['d_p_l'] + df_merged['d_u_l'] + df_merged['u_t_t'] + df_merged['m_o_c'] + df_merged[\"m_e_r\"] + df_merged[\"m_c\"] + df_merged['m_m'] + df_merged['t_c']"
   ]
  },
  {
   "cell_type": "code",
   "execution_count": null,
   "id": "53881c3c",
   "metadata": {},
   "outputs": [],
   "source": [
    "#the proportional share from the total reward\n",
    "df_merged['score'] = df_merged[\"total_coef\"]*25000"
   ]
  },
  {
   "cell_type": "code",
   "execution_count": null,
   "id": "8e7f637c",
   "metadata": {
    "scrolled": true
   },
   "outputs": [],
   "source": [
    "#sorting by the ammount of the reward\n",
    "df_merged = (df_merged.sort_values(by='score', ascending=False)).reset_index(drop=True)\n",
    "df_merged.head()"
   ]
  },
  {
   "cell_type": "code",
   "execution_count": null,
   "id": "8dc7cffc",
   "metadata": {
    "scrolled": true
   },
   "outputs": [],
   "source": [
    "#checkpoint - it should be 25000 minimal difference can be caused by the python\n",
    "sum(df_merged['score'])"
   ]
  },
  {
   "cell_type": "code",
   "execution_count": null,
   "id": "11025250",
   "metadata": {},
   "outputs": [],
   "source": [
    "#users without score\n",
    "empty_wal = df_merged[df_merged['score'] == 0 ].index"
   ]
  },
  {
   "cell_type": "code",
   "execution_count": null,
   "id": "72eb2851",
   "metadata": {},
   "outputs": [],
   "source": [
    "#dropping the users with no distribution\n",
    "df_merged.drop(empty_wal, inplace=True)"
   ]
  },
  {
   "cell_type": "markdown",
   "id": "4e415b7f",
   "metadata": {},
   "source": [
    "### binning and tagging with NFT status, based on the score"
   ]
  },
  {
   "cell_type": "code",
   "execution_count": null,
   "id": "3b466b06",
   "metadata": {},
   "outputs": [],
   "source": [
    "#creating label\n",
    "b_l = [\"Bronze\", \"Silver\", \"Gold\", \"Diamond\"]\n",
    "#using binning function to creat groups\n",
    "df_merged[\"NFT_status\"] = pd.qcut(df_merged[\"score\"], 4, labels=b_l)"
   ]
  },
  {
   "cell_type": "code",
   "execution_count": null,
   "id": "621a29ba",
   "metadata": {
    "scrolled": true
   },
   "outputs": [],
   "source": [
    "df_merged[\"NFT_status\"].value_counts()"
   ]
  },
  {
   "cell_type": "markdown",
   "id": "0dfd460f",
   "metadata": {},
   "source": [
    "### voting"
   ]
  },
  {
   "cell_type": "code",
   "execution_count": null,
   "id": "3e526c06",
   "metadata": {},
   "outputs": [],
   "source": [
    "#url and query \n",
    "url = 'https://hub.snapshot.org/graphql?operationName=Votes'\n",
    "\n",
    "data_h = '''\n",
    "query Votes {\n",
    "  votes (\n",
    "    first: 1000\n",
    "    skip: 0\n",
    "    where: {\n",
    "      proposal: \"0xe02cd1e68980a1572f03de7d849c5b6c86620d6774f3a652f11069d2ad290ae9\"\n",
    "    }\n",
    "    orderBy: \"created\",\n",
    "    orderDirection: desc\n",
    "  ) {\n",
    "    id\n",
    "    voter\n",
    "    created\n",
    "    proposal {\n",
    "      id\n",
    "    }\n",
    "    choice\n",
    "    space {\n",
    "      id\n",
    "    }\n",
    "  }\n",
    "}\n",
    "'''\n",
    "\n",
    "response_h = requests.post(url,json={'query': data_h})\n",
    "#dictionary from the query\n",
    "data_h = json.loads(response_h.text)"
   ]
  },
  {
   "cell_type": "code",
   "execution_count": null,
   "id": "8133feb9",
   "metadata": {},
   "outputs": [],
   "source": [
    "#creating a datafram from the dictionary\n",
    "df_h = pd.DataFrame((pd.DataFrame(data_h)).iloc[0][0])\n",
    "df_h.head()"
   ]
  },
  {
   "cell_type": "code",
   "execution_count": null,
   "id": "9b813fc5",
   "metadata": {},
   "outputs": [],
   "source": [
    "from pandas.io.json import json_normalize"
   ]
  },
  {
   "cell_type": "code",
   "execution_count": null,
   "id": "555a880b",
   "metadata": {},
   "outputs": [],
   "source": [
    "#separating the answers from the vote - which are still dictionary objects\n",
    "sample = df_h['choice']"
   ]
  },
  {
   "cell_type": "code",
   "execution_count": null,
   "id": "fd9575b0",
   "metadata": {},
   "outputs": [],
   "source": [
    "#normalizing the answers\n",
    "choices = pd.json_normalize(sample)\n",
    "choices.head(5)"
   ]
  },
  {
   "cell_type": "code",
   "execution_count": null,
   "id": "9c82715f",
   "metadata": {},
   "outputs": [],
   "source": [
    "#merging back the answers to the dataframe\n",
    "df_snapshot = pd.concat([df_h, choices], axis=1)"
   ]
  },
  {
   "cell_type": "code",
   "execution_count": null,
   "id": "6b5f5a3d",
   "metadata": {},
   "outputs": [],
   "source": [
    "#separating the voter's address\n",
    "vote = pd.DataFrame(df_snapshot['voter'])"
   ]
  },
  {
   "cell_type": "code",
   "execution_count": null,
   "id": "b89c02e5",
   "metadata": {},
   "outputs": [],
   "source": [
    "#changing the characters to lower case\n",
    "vote['voter'] = vote['voter'].str.lower()"
   ]
  },
  {
   "cell_type": "code",
   "execution_count": null,
   "id": "a9bc1a0a",
   "metadata": {},
   "outputs": [],
   "source": [
    "#changing the name of the column\n",
    "vote.columns = [\"nft_add\"]"
   ]
  },
  {
   "cell_type": "code",
   "execution_count": null,
   "id": "694ed4da",
   "metadata": {
    "scrolled": true
   },
   "outputs": [],
   "source": [
    "#adding a variable as identifier after merging with the forum data\n",
    "vote[\"voter\"] = 1 \n",
    "vote"
   ]
  },
  {
   "cell_type": "code",
   "execution_count": null,
   "id": "95b75b5b",
   "metadata": {},
   "outputs": [],
   "source": [
    "#changing the forum addresses to lower case\n",
    "df_merged['nft_add'] = df_merged['nft_add'].str.lower()"
   ]
  },
  {
   "cell_type": "code",
   "execution_count": null,
   "id": "718a8879",
   "metadata": {},
   "outputs": [],
   "source": [
    "df_merged['add'] = df_merged['add'].str.lower()"
   ]
  },
  {
   "cell_type": "markdown",
   "id": "80e7e6f4",
   "metadata": {},
   "source": [
    "### merging the addresses from the forum data and from the snapshot"
   ]
  },
  {
   "cell_type": "code",
   "execution_count": null,
   "id": "dbec846f",
   "metadata": {},
   "outputs": [],
   "source": [
    "df_merged_vote = pd.merge(df_merged, vote, how=\"outer\", on=[\"nft_add\"])\n",
    "df_merged_vote.head(5)"
   ]
  },
  {
   "cell_type": "code",
   "execution_count": null,
   "id": "686adf6d",
   "metadata": {
    "scrolled": true
   },
   "outputs": [],
   "source": [
    "#counting the addresses, which are showing up only in the voting\n",
    "df_merged_vote['NFT_status'].isna().sum()"
   ]
  },
  {
   "cell_type": "markdown",
   "id": "a269b926",
   "metadata": {},
   "source": [
    "### giving every user at least \"bronze\" status - because the voting participants did not necessarily participated in the forum discussion"
   ]
  },
  {
   "cell_type": "code",
   "execution_count": null,
   "id": "3b347d14",
   "metadata": {
    "scrolled": true
   },
   "outputs": [],
   "source": [
    "df_merged_vote['NFT_status'] = df_merged_vote[\"NFT_status\"].fillna('Bronze')"
   ]
  },
  {
   "cell_type": "code",
   "execution_count": null,
   "id": "01b1ab91",
   "metadata": {},
   "outputs": [],
   "source": [
    "df_merged_vote['NFT_status'].value_counts()"
   ]
  },
  {
   "cell_type": "code",
   "execution_count": null,
   "id": "98ebea48",
   "metadata": {
    "scrolled": true
   },
   "outputs": [],
   "source": [
    "#changing NAN to 0\n",
    "df_merged_vote['score'].fillna(0)"
   ]
  },
  {
   "cell_type": "markdown",
   "id": "aec2505b",
   "metadata": {},
   "source": [
    "### filling up the missing addresses (mutually) - if the participant didn't have wallet address, but had NTF address, it's inserted and vica versa"
   ]
  },
  {
   "cell_type": "code",
   "execution_count": null,
   "id": "e9739bd1",
   "metadata": {},
   "outputs": [],
   "source": [
    "# 0 changed to NAN\n",
    "df_merged_vote['add'] = df_merged_vote['add'].replace({0:np.nan})"
   ]
  },
  {
   "cell_type": "code",
   "execution_count": null,
   "id": "c18e3972",
   "metadata": {},
   "outputs": [],
   "source": [
    "# NAN replaced with the other address\n",
    "df_merged_vote['add'] = df_merged_vote['add'].fillna(df_merged_vote['nft_add'])"
   ]
  },
  {
   "cell_type": "code",
   "execution_count": null,
   "id": "ed072e03",
   "metadata": {},
   "outputs": [],
   "source": [
    "# 0 changed to NAN\n",
    "df_merged_vote['nft_add'] = df_merged_vote['nft_add'].replace({0:np.nan})"
   ]
  },
  {
   "cell_type": "code",
   "execution_count": null,
   "id": "2eb0f197",
   "metadata": {},
   "outputs": [],
   "source": [
    "# NAN replaced with the other address\n",
    "df_merged_vote['nft_add'] = df_merged_vote['nft_add'].fillna(df_merged_vote['add'])"
   ]
  },
  {
   "cell_type": "code",
   "execution_count": null,
   "id": "fdffa19a",
   "metadata": {},
   "outputs": [],
   "source": [
    "#sorting values\n",
    "df_merged_vote = (df_merged_vote.sort_values(by='score', ascending=False)).reset_index(drop=True)"
   ]
  },
  {
   "cell_type": "markdown",
   "id": "a3686088",
   "metadata": {},
   "source": [
    "### check duplicates and drop them, if it's necessary"
   ]
  },
  {
   "cell_type": "markdown",
   "id": "e5885a7f",
   "metadata": {},
   "source": [
    "df_merged_vote['add'].value_counts()"
   ]
  },
  {
   "cell_type": "markdown",
   "id": "77934cf0",
   "metadata": {},
   "source": [
    "df_merged_vote.drop_duplicates(subset=['add'])"
   ]
  },
  {
   "cell_type": "markdown",
   "id": "c526d531",
   "metadata": {},
   "source": [
    "### creating the list for HOPR distribution"
   ]
  },
  {
   "cell_type": "code",
   "execution_count": null,
   "id": "dc29f04c",
   "metadata": {},
   "outputs": [],
   "source": [
    "#creating HOPR token format from the score\n",
    "df_merged_vote['score_h'] = df_merged_vote['score']*1e18"
   ]
  },
  {
   "cell_type": "code",
   "execution_count": null,
   "id": "7e629301",
   "metadata": {
    "scrolled": false
   },
   "outputs": [],
   "source": [
    "#subfile for HOPR allocation\n",
    "hopr_allocation = df_merged_vote.filter(['add', \"score\", \"score_h\",], axis=1)"
   ]
  },
  {
   "cell_type": "code",
   "execution_count": null,
   "id": "1e74f5f5",
   "metadata": {},
   "outputs": [],
   "source": [
    "#dropping NANs\n",
    "hopr_allocation = hopr_allocation.dropna()"
   ]
  },
  {
   "cell_type": "code",
   "execution_count": null,
   "id": "005aecc8",
   "metadata": {
    "scrolled": false
   },
   "outputs": [],
   "source": [
    "#changint the datatype of the score to int\n",
    "hopr_allocation[\"score_h\"] = hopr_allocation['score_h'].apply(lambda x: int(x))\n",
    "hopr_allocation"
   ]
  },
  {
   "cell_type": "code",
   "execution_count": null,
   "id": "1589c89a",
   "metadata": {},
   "outputs": [],
   "source": [
    "#creating a new variable from the score as str \n",
    "hopr_allocation[\"score_sth\"] = hopr_allocation['score_h'].apply(lambda x: str(x))"
   ]
  },
  {
   "cell_type": "code",
   "execution_count": null,
   "id": "e86bf1fb",
   "metadata": {},
   "outputs": [],
   "source": [
    "#creating an array from the ammount\n",
    "hopr_dist_score_h = hd['score_sth'].to_numpy()"
   ]
  },
  {
   "cell_type": "code",
   "execution_count": null,
   "id": "9c0a11a6",
   "metadata": {
    "scrolled": false
   },
   "outputs": [],
   "source": [
    "#creating an array from the address\n",
    "hopr_dist_add = hd['add'].to_numpy()"
   ]
  },
  {
   "cell_type": "markdown",
   "id": "54a969bc",
   "metadata": {},
   "source": [
    "### NFT distribution"
   ]
  },
  {
   "cell_type": "code",
   "execution_count": null,
   "id": "b9f438b1",
   "metadata": {},
   "outputs": [],
   "source": [
    "#subframe\n",
    "nft_distribution = df_merged_vote.filter(['nft_add', \"NFT_status\"], axis=1)"
   ]
  },
  {
   "cell_type": "code",
   "execution_count": null,
   "id": "49532ab6",
   "metadata": {},
   "outputs": [],
   "source": [
    "#creating a column with the right format\n",
    "nft_distribution['eoa'] = '>' + nft_distribution[\"nft_add\"] + '<'"
   ]
  },
  {
   "cell_type": "code",
   "execution_count": null,
   "id": "93fdb1a1",
   "metadata": {},
   "outputs": [],
   "source": [
    "#adding a column as for the status\n",
    "nft_distribution['grade'] = nft_distribution['NFT_status']"
   ]
  },
  {
   "cell_type": "code",
   "execution_count": null,
   "id": "80ede8d8",
   "metadata": {
    "scrolled": true
   },
   "outputs": [],
   "source": [
    "#keeping only the necessary columns\n",
    "nft_distribution = nft_distribution.drop(['nft_add', 'NFT_status'], axis=1)"
   ]
  },
  {
   "cell_type": "code",
   "execution_count": null,
   "id": "04f7808f",
   "metadata": {},
   "outputs": [],
   "source": [
    "nft_distribution = nft_distribution.dropna()\n",
    "nft_distribution"
   ]
  },
  {
   "cell_type": "code",
   "execution_count": null,
   "id": "734942b8",
   "metadata": {},
   "outputs": [],
   "source": [
    "#saving\n",
    "nft_distribution.to_csv('daov2_nft_distribution.csv')"
   ]
  }
 ],
 "metadata": {
  "kernelspec": {
   "display_name": "Python 3 (ipykernel)",
   "language": "python",
   "name": "python3"
  },
  "language_info": {
   "codemirror_mode": {
    "name": "ipython",
    "version": 3
   },
   "file_extension": ".py",
   "mimetype": "text/x-python",
   "name": "python",
   "nbconvert_exporter": "python",
   "pygments_lexer": "ipython3",
   "version": "3.7.1"
  }
 },
 "nbformat": 4,
 "nbformat_minor": 5
}
